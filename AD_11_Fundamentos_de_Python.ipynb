{
  "nbformat": 4,
  "nbformat_minor": 0,
  "metadata": {
    "colab": {
      "provenance": [],
      "include_colab_link": true
    },
    "kernelspec": {
      "name": "python3",
      "display_name": "Python 3"
    },
    "language_info": {
      "name": "python"
    }
  },
  "cells": [
    {
      "cell_type": "markdown",
      "metadata": {
        "id": "view-in-github",
        "colab_type": "text"
      },
      "source": [
        "<a href=\"https://colab.research.google.com/github/leonardo69-code/academia-javascriptphp/blob/main/AD_11_Fundamentos_de_Python.ipynb\" target=\"_parent\"><img src=\"https://colab.research.google.com/assets/colab-badge.svg\" alt=\"Open In Colab\"/></a>"
      ]
    },
    {
      "cell_type": "markdown",
      "source": [
        "# 1 - Variáveis e tipos de dados"
      ],
      "metadata": {
        "id": "kdGY4ZocS3pW"
      }
    },
    {
      "cell_type": "code",
      "execution_count": null,
      "metadata": {
        "id": "mT8loC27P33a"
      },
      "outputs": [],
      "source": [
        "'''\n",
        "Variáveis:\n",
        "'''\n",
        "cliente = 'Douglas' # nesta linha criamos a variável cliente e armazenamos o nome mais bonito"
      ]
    },
    {
      "cell_type": "code",
      "source": [
        "# exibindo o valor de uma variável\n",
        "print(cliente)"
      ],
      "metadata": {
        "colab": {
          "base_uri": "https://localhost:8080/"
        },
        "id": "_6DGTwTTVIn4",
        "outputId": "5ff6b6f5-c057-4034-a5b5-fc34379d3a2e"
      },
      "execution_count": null,
      "outputs": [
        {
          "output_type": "stream",
          "name": "stdout",
          "text": [
            "Douglas\n"
          ]
        }
      ]
    },
    {
      "cell_type": "code",
      "source": [
        "# Verficicando o tipo de dado armazenado\n",
        "type(cliente)"
      ],
      "metadata": {
        "id": "RacwKUztVkwi",
        "colab": {
          "base_uri": "https://localhost:8080/"
        },
        "outputId": "b874da1a-ae57-4e90-bff6-9c9a3be841bc"
      },
      "execution_count": null,
      "outputs": [
        {
          "output_type": "execute_result",
          "data": {
            "text/plain": [
              "str"
            ]
          },
          "metadata": {},
          "execution_count": 3
        }
      ]
    },
    {
      "cell_type": "code",
      "source": [
        "peso = 87\n",
        "type(peso)"
      ],
      "metadata": {
        "colab": {
          "base_uri": "https://localhost:8080/"
        },
        "id": "nYzApN6wX1ky",
        "outputId": "bf7bf866-5ea1-413c-d0fc-b91ffe1b40f2"
      },
      "execution_count": null,
      "outputs": [
        {
          "output_type": "execute_result",
          "data": {
            "text/plain": [
              "int"
            ]
          },
          "metadata": {},
          "execution_count": 8
        }
      ]
    },
    {
      "cell_type": "code",
      "source": [
        "altura = 1.85\n",
        "type(altura)"
      ],
      "metadata": {
        "colab": {
          "base_uri": "https://localhost:8080/"
        },
        "id": "vhoFn3fYX8d9",
        "outputId": "a62c7f39-fc13-4836-ff5a-4bcf88b173de"
      },
      "execution_count": null,
      "outputs": [
        {
          "output_type": "execute_result",
          "data": {
            "text/plain": [
              "float"
            ]
          },
          "metadata": {},
          "execution_count": 10
        }
      ]
    },
    {
      "cell_type": "markdown",
      "source": [
        "# 2 - Operadores matemáticos"
      ],
      "metadata": {
        "id": "AJ_5RIy5YlZV"
      }
    },
    {
      "cell_type": "code",
      "source": [
        "# Soma (+)\n",
        "soma = 3 + 2\n",
        "print(soma)"
      ],
      "metadata": {
        "colab": {
          "base_uri": "https://localhost:8080/"
        },
        "id": "XkJbiuIrYov1",
        "outputId": "63a46f78-d337-4a80-a1a2-8410db7dbc9a"
      },
      "execution_count": null,
      "outputs": [
        {
          "output_type": "stream",
          "name": "stdout",
          "text": [
            "5\n"
          ]
        }
      ]
    },
    {
      "cell_type": "code",
      "source": [
        "# Subtração (-)\n",
        "sub = 3 - 2\n",
        "print(sub)"
      ],
      "metadata": {
        "colab": {
          "base_uri": "https://localhost:8080/"
        },
        "id": "ZUKz6nFJZZyM",
        "outputId": "81c27604-7a19-4f35-e234-ec553f2fe4b9"
      },
      "execution_count": null,
      "outputs": [
        {
          "output_type": "stream",
          "name": "stdout",
          "text": [
            "1\n"
          ]
        }
      ]
    },
    {
      "cell_type": "code",
      "source": [
        "# Multiplicação (*)\n",
        "mult = 3 * 2\n",
        "print(mult)"
      ],
      "metadata": {
        "colab": {
          "base_uri": "https://localhost:8080/"
        },
        "id": "TcVRB7YNZt5t",
        "outputId": "2c2c5252-5a93-405b-ba5c-746df21c93ca"
      },
      "execution_count": null,
      "outputs": [
        {
          "output_type": "stream",
          "name": "stdout",
          "text": [
            "6\n"
          ]
        }
      ]
    },
    {
      "cell_type": "code",
      "source": [
        "# Divisão (/)\n",
        "div = 3 / 2\n",
        "print(div)"
      ],
      "metadata": {
        "colab": {
          "base_uri": "https://localhost:8080/"
        },
        "id": "pM9MZZJ_aCVm",
        "outputId": "5b3a8499-4df3-431a-995d-46d8060f840c"
      },
      "execution_count": null,
      "outputs": [
        {
          "output_type": "stream",
          "name": "stdout",
          "text": [
            "1.5\n"
          ]
        }
      ]
    },
    {
      "cell_type": "code",
      "source": [
        "# Parte inteira da divisão (//)\n",
        "int_div = 3 // 2\n",
        "print(int_div)"
      ],
      "metadata": {
        "colab": {
          "base_uri": "https://localhost:8080/"
        },
        "id": "6syTosHMbBdi",
        "outputId": "c3bc13c4-cacd-472c-e4cc-b4182eb17a68"
      },
      "execution_count": null,
      "outputs": [
        {
          "output_type": "stream",
          "name": "stdout",
          "text": [
            "1\n"
          ]
        }
      ]
    },
    {
      "cell_type": "code",
      "source": [
        "# resto da divisão (%)\n",
        "resto = 3 % 2\n",
        "print(resto)"
      ],
      "metadata": {
        "colab": {
          "base_uri": "https://localhost:8080/"
        },
        "id": "hcUh8sFjbKmK",
        "outputId": "9bb41be6-e2ae-41fd-c124-9a6b2ecdb184"
      },
      "execution_count": null,
      "outputs": [
        {
          "output_type": "stream",
          "name": "stdout",
          "text": [
            "1\n"
          ]
        }
      ]
    },
    {
      "cell_type": "code",
      "source": [
        "# Potenciação\n",
        "potencia = 3 ** 2\n",
        "print(potencia)"
      ],
      "metadata": {
        "colab": {
          "base_uri": "https://localhost:8080/"
        },
        "id": "feyBo77HbVQ9",
        "outputId": "e2242049-4254-4321-b749-54584a01ff89"
      },
      "execution_count": null,
      "outputs": [
        {
          "output_type": "stream",
          "name": "stdout",
          "text": [
            "9\n"
          ]
        }
      ]
    },
    {
      "cell_type": "markdown",
      "source": [
        "# 3 - Strings"
      ],
      "metadata": {
        "id": "w7WYRrTxeqd3"
      }
    },
    {
      "cell_type": "code",
      "source": [
        "# Formatação de strings (f-string)\n",
        "cliente = 'Daniela'\n",
        "print(cliente)"
      ],
      "metadata": {
        "colab": {
          "base_uri": "https://localhost:8080/"
        },
        "id": "r6VaRP3cetPe",
        "outputId": "8c07ae4a-7230-4a9f-9dea-d21032de9346"
      },
      "execution_count": null,
      "outputs": [
        {
          "output_type": "stream",
          "name": "stdout",
          "text": [
            "Daniela\n"
          ]
        }
      ]
    },
    {
      "cell_type": "code",
      "source": [
        "# Formatação de strings (f-string)\n",
        "print(f'O no do cliente é {cliente}')"
      ],
      "metadata": {
        "colab": {
          "base_uri": "https://localhost:8080/"
        },
        "id": "WWEBXrGnfEYN",
        "outputId": "1af27b82-27c5-4def-8832-7f750bac60c9"
      },
      "execution_count": null,
      "outputs": [
        {
          "output_type": "stream",
          "name": "stdout",
          "text": [
            "O no do cliente é Daniela\n"
          ]
        }
      ]
    },
    {
      "cell_type": "code",
      "source": [
        "# Receber uma informação do usuário\n",
        "peso = float(input('Informe seu peso em Kg: '))\n",
        "altura = float(input('Infome sua altura em metros: '))\n",
        "imc = peso / altura ** 2\n",
        "print(f'{imc:.2f}') # Arreddonda a exibição"
      ],
      "metadata": {
        "colab": {
          "base_uri": "https://localhost:8080/"
        },
        "id": "XfxfxcctfexS",
        "outputId": "c2b75dcb-0a98-443f-97b8-1b27a1256dc4"
      },
      "execution_count": null,
      "outputs": [
        {
          "output_type": "stream",
          "name": "stdout",
          "text": [
            "Informe seu peso em Kg: 87\n",
            "Infome sua altura em metros: 1.85\n",
            "25.42\n"
          ]
        }
      ]
    },
    {
      "cell_type": "code",
      "source": [
        "'''\n",
        "É uma boa prática arredondar a exibição ao invÉs do armazenamente\n",
        "'''\n",
        "print(round(imc,2)) # Arreddonda a exibição"
      ],
      "metadata": {
        "colab": {
          "base_uri": "https://localhost:8080/"
        },
        "id": "dA-5xyQ9jM4P",
        "outputId": "5767636e-5bd8-4d60-c1a7-7c04248c04f3"
      },
      "execution_count": null,
      "outputs": [
        {
          "output_type": "stream",
          "name": "stdout",
          "text": [
            "25.42\n"
          ]
        }
      ]
    },
    {
      "cell_type": "code",
      "source": [
        "email = 'doug@gmail.com'\n",
        "# Indexação de strings\n",
        "# 0    1   2   3   4   5  6  7  8  9 10 11 12 13 (índice)\n",
        "# -14 -13 -12 -11 -10 -9 -8 -7 -6 -5 -4 -3 -2 -1 (índice reverso)\n",
        "# 1º 2º 3º 4º 5º 6º 7º 8º 9º 10º 11º 12º 13º 14º (ordinal)\n",
        "# d  o  u  g  @  g  m  a  i   l   .   c   o   m"
      ],
      "metadata": {
        "id": "1Ol-Pf1Gkesn"
      },
      "execution_count": null,
      "outputs": []
    },
    {
      "cell_type": "code",
      "source": [
        "# Exibindo o primeiro caracter da string\n",
        "letra1 = email[0]\n",
        "print(letra1)"
      ],
      "metadata": {
        "colab": {
          "base_uri": "https://localhost:8080/"
        },
        "id": "3c3dyANilP8F",
        "outputId": "2b176ff2-e244-46ba-febb-e1bb5fa816bb"
      },
      "execution_count": null,
      "outputs": [
        {
          "output_type": "stream",
          "name": "stdout",
          "text": [
            "d\n"
          ]
        }
      ]
    },
    {
      "cell_type": "code",
      "source": [
        "'''\n",
        "Imagine que você deseja fatiar uma string exibindo do primeiro ao último\n",
        "caracter\n",
        "'''\n",
        "print(email[0:14]) # início (0) inclusive e final(14) exclusivo"
      ],
      "metadata": {
        "colab": {
          "base_uri": "https://localhost:8080/"
        },
        "id": "-mAqTsWbmSH6",
        "outputId": "0406126c-c153-472c-b264-2e37284a9c68"
      },
      "execution_count": null,
      "outputs": [
        {
          "output_type": "stream",
          "name": "stdout",
          "text": [
            "doug@gmail.co\n"
          ]
        }
      ]
    },
    {
      "cell_type": "code",
      "source": [
        "# Exibindo o última caracter de uma string com tanho desconhecido\n",
        "print(email[-1])"
      ],
      "metadata": {
        "colab": {
          "base_uri": "https://localhost:8080/"
        },
        "id": "zU8FOpNJn37L",
        "outputId": "d3aae2f3-f11f-45de-8e28-010eb403c6eb"
      },
      "execution_count": null,
      "outputs": [
        {
          "output_type": "stream",
          "name": "stdout",
          "text": [
            "m\n"
          ]
        }
      ]
    },
    {
      "cell_type": "code",
      "source": [
        "# Fatiamento de um intervalo de caractceres com passos (saltos)\n",
        "'''\n",
        "Imagine que você deseja criar uma visualização de todos os caracteres\n",
        "com passo igual a 2\n",
        "'''\n",
        "print(email[::2]) # [início (inclusive):fim (exclusive):passo (de quanto em quanto)]"
      ],
      "metadata": {
        "colab": {
          "base_uri": "https://localhost:8080/"
        },
        "id": "zQ0u8BbtoyHQ",
        "outputId": "95d8b832-3b1b-4c7f-b1ad-a90114f0299a"
      },
      "execution_count": null,
      "outputs": [
        {
          "output_type": "stream",
          "name": "stdout",
          "text": [
            "du@mi.o\n"
          ]
        }
      ]
    },
    {
      "cell_type": "code",
      "source": [
        "# Função para contar a quantidade de caracteres de uma string\n",
        "len(email)"
      ],
      "metadata": {
        "colab": {
          "base_uri": "https://localhost:8080/"
        },
        "id": "qSnRLfzBpt4y",
        "outputId": "269f88ee-2b1c-4f81-f9cc-1bfc4ed4ff2f"
      },
      "execution_count": null,
      "outputs": [
        {
          "output_type": "execute_result",
          "data": {
            "text/plain": [
              "14"
            ]
          },
          "metadata": {},
          "execution_count": 58
        }
      ]
    },
    {
      "cell_type": "code",
      "source": [],
      "metadata": {
        "id": "QSJs_jFX3p2c"
      },
      "execution_count": null,
      "outputs": []
    },
    {
      "cell_type": "code",
      "source": [
        "# Operador IN (verifica a presença de um caracter em uma string)\n",
        "cliente = 'Douglas'\n",
        "'D' in cliente"
      ],
      "metadata": {
        "colab": {
          "base_uri": "https://localhost:8080/"
        },
        "id": "8k3uYrJXuShd",
        "outputId": "db6ea606-7e4c-42c4-925e-11c6d2ef5765"
      },
      "execution_count": null,
      "outputs": [
        {
          "output_type": "execute_result",
          "data": {
            "text/plain": [
              "True"
            ]
          },
          "metadata": {},
          "execution_count": 59
        }
      ]
    },
    {
      "cell_type": "code",
      "source": [
        "'d' in cliente"
      ],
      "metadata": {
        "colab": {
          "base_uri": "https://localhost:8080/"
        },
        "id": "VP49DIecuuVd",
        "outputId": "3a84290f-2bad-4a1e-b9a5-527c39316dd8"
      },
      "execution_count": null,
      "outputs": [
        {
          "output_type": "execute_result",
          "data": {
            "text/plain": [
              "False"
            ]
          },
          "metadata": {},
          "execution_count": 60
        }
      ]
    },
    {
      "cell_type": "code",
      "source": [
        "# Operador NOT IN (verifica a presença de um caracter em uma string)\n",
        "cliente = 'Douglas'\n",
        "'D' not in cliente"
      ],
      "metadata": {
        "colab": {
          "base_uri": "https://localhost:8080/"
        },
        "id": "WUkpf3_hu3xv",
        "outputId": "174f4834-8a61-4b70-f95c-519818ec35a4"
      },
      "execution_count": null,
      "outputs": [
        {
          "output_type": "execute_result",
          "data": {
            "text/plain": [
              "False"
            ]
          },
          "metadata": {},
          "execution_count": 61
        }
      ]
    },
    {
      "cell_type": "code",
      "source": [
        "'d' not in cliente"
      ],
      "metadata": {
        "colab": {
          "base_uri": "https://localhost:8080/"
        },
        "id": "-cfv289lvBne",
        "outputId": "c881ed67-ca8a-4f99-f2fb-34820c2f98f8"
      },
      "execution_count": null,
      "outputs": [
        {
          "output_type": "execute_result",
          "data": {
            "text/plain": [
              "True"
            ]
          },
          "metadata": {},
          "execution_count": 62
        }
      ]
    },
    {
      "cell_type": "code",
      "source": [
        "# Convertendo em caixa alta a primeira leta de uma string\n",
        "nome = 'douglas'\n",
        "print(nome)\n",
        "nome = nome.capitalize()\n",
        "print(nome)"
      ],
      "metadata": {
        "colab": {
          "base_uri": "https://localhost:8080/"
        },
        "id": "Qtm7X7U3vRQ_",
        "outputId": "8c6b2505-8ee7-46a2-9e35-18b2c27a3817"
      },
      "execution_count": null,
      "outputs": [
        {
          "output_type": "stream",
          "name": "stdout",
          "text": [
            "douglas\n",
            "Douglas\n"
          ]
        }
      ]
    },
    {
      "cell_type": "code",
      "source": [
        "nome_completo = 'douglas almeida ribeiro'\n",
        "print(nome_completo)\n",
        "nome_completo = nome_completo.capitalize()\n",
        "print(nome_completo)\n",
        "nome_completo = nome_completo.title()\n",
        "print(nome_completo)"
      ],
      "metadata": {
        "colab": {
          "base_uri": "https://localhost:8080/"
        },
        "id": "uds31Zi9vq3n",
        "outputId": "9c51802b-f594-4bb5-a9b2-e881c9a08210"
      },
      "execution_count": null,
      "outputs": [
        {
          "output_type": "stream",
          "name": "stdout",
          "text": [
            "douglas almeida ribeiro\n",
            "Douglas almeida ribeiro\n",
            "Douglas Almeida Ribeiro\n"
          ]
        }
      ]
    },
    {
      "cell_type": "code",
      "source": [
        "# Método upper deixa todas as letras em caixa alta\n",
        "nome = 'Douglas'\n",
        "print(nome)\n",
        "nome = nome.upper()\n",
        "print(nome)"
      ],
      "metadata": {
        "colab": {
          "base_uri": "https://localhost:8080/"
        },
        "id": "1MM9hKgRw4fl",
        "outputId": "f6f35d2e-a693-424c-aa47-90963661a408"
      },
      "execution_count": null,
      "outputs": [
        {
          "output_type": "stream",
          "name": "stdout",
          "text": [
            "Douglas\n",
            "DOUGLAS\n"
          ]
        }
      ]
    },
    {
      "cell_type": "code",
      "source": [
        "# Contando quantas vezes um caracter aparece em uma string\n",
        "nome = 'ANA'\n",
        "nome.count('A')"
      ],
      "metadata": {
        "colab": {
          "base_uri": "https://localhost:8080/"
        },
        "id": "Mqs3TJH_xvbh",
        "outputId": "40e0571a-1817-4e2b-87bf-995d629d74f9"
      },
      "execution_count": null,
      "outputs": [
        {
          "output_type": "execute_result",
          "data": {
            "text/plain": [
              "2"
            ]
          },
          "metadata": {},
          "execution_count": 74
        }
      ]
    },
    {
      "cell_type": "code",
      "source": [
        "# Descobrindo o índice da primeira correspondência encontrada\n",
        "email.find('o')"
      ],
      "metadata": {
        "colab": {
          "base_uri": "https://localhost:8080/"
        },
        "id": "bYHYMpXmyOIX",
        "outputId": "43a1d131-cf68-42ad-b13b-b62bc8550bfd"
      },
      "execution_count": null,
      "outputs": [
        {
          "output_type": "execute_result",
          "data": {
            "text/plain": [
              "1"
            ]
          },
          "metadata": {},
          "execution_count": 72
        }
      ]
    },
    {
      "cell_type": "code",
      "source": [
        "# Método para remover espaços indesejados\n",
        "nome = ' Douglas '\n",
        "print(len(nome))\n",
        "nome = nome.strip()\n",
        "print(len(nome))"
      ],
      "metadata": {
        "colab": {
          "base_uri": "https://localhost:8080/"
        },
        "id": "9Rfs-91JzYTR",
        "outputId": "a900b751-4f12-4f02-b203-ecd95893c509"
      },
      "execution_count": null,
      "outputs": [
        {
          "output_type": "stream",
          "name": "stdout",
          "text": [
            "9\n",
            "7\n"
          ]
        }
      ]
    },
    {
      "cell_type": "code",
      "source": [
        "# Método para substituir um caracter por outro\n",
        "\n",
        "custo = 'R$ 10.50'\n",
        "custo = custo.replace('.',',')\n",
        "print(custo)"
      ],
      "metadata": {
        "colab": {
          "base_uri": "https://localhost:8080/"
        },
        "id": "K0hryvZ50BDA",
        "outputId": "efae9e2e-66b6-46d1-9d80-4785e62f2fe5"
      },
      "execution_count": null,
      "outputs": [
        {
          "output_type": "stream",
          "name": "stdout",
          "text": [
            "R$ 10,50\n"
          ]
        }
      ]
    },
    {
      "cell_type": "code",
      "source": [
        "'''\n",
        "Imagine que você deseja criar um script que receba do usuário\n",
        "n nomes e os armazene separadamente em uma única variável\n",
        "'''\n",
        "nomes = input('Informe os nomes dos convidados sparados por espaços: ')\n",
        "print(nomes)\n",
        "print(type(nomes))"
      ],
      "metadata": {
        "colab": {
          "base_uri": "https://localhost:8080/"
        },
        "id": "L9rsbiDG16dY",
        "outputId": "181886f3-3259-49b0-88ce-f62b37639e2d"
      },
      "execution_count": null,
      "outputs": [
        {
          "output_type": "stream",
          "name": "stdout",
          "text": [
            "Informe os nomes dos convidados sparados por espaços: Douglas Daniela Eduardo Ester Maria Pedro\n",
            "Douglas Daniela Eduardo Ester Maria Pedro\n",
            "<class 'str'>\n"
          ]
        }
      ]
    },
    {
      "cell_type": "code",
      "source": [
        "nomes = nomes.split()\n",
        "print(nomes)\n",
        "print(type(nomes))"
      ],
      "metadata": {
        "colab": {
          "base_uri": "https://localhost:8080/"
        },
        "id": "L3YQDpKl25Cb",
        "outputId": "b386d1c1-aba6-4da7-8f5e-4e87ed89b2d9"
      },
      "execution_count": null,
      "outputs": [
        {
          "output_type": "stream",
          "name": "stdout",
          "text": [
            "['Douglas', 'Daniela', 'Eduardo', 'Ester', 'Maria', 'Pedro']\n",
            "<class 'list'>\n"
          ]
        }
      ]
    }
  ]
}